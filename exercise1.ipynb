{
 "cells": [
  {
   "cell_type": "markdown",
   "id": "1631f127",
   "metadata": {},
   "source": [
    "# Machine learning for data quality monitoring and certification - Exercise\n",
    "\n",
    "> Technical note: this is the version of the exercise given at the CMS PODAS school at DESY in October 2023, see https://github.com/CMSTrackerDPG/ML4DQMPODASExercise/tree/desy-podas. It is compatible with the DESY computing infrastructure and storage system.  \n",
    "Another version of the same exercise exists which is compatible with CERN SWAN (and eos storage system), see https://github.com/CMSTrackerDPG/ML4DQMPODASExercise/tree/main.\n",
    "\n",
    "This exercise introduces the basic usage of machine learning techniques, notably **autoencoders**, for performing **data quality monitoring (DQM) and data certification (DC)**.\n",
    "\n",
    "In more detail, the following topics will be covered:  \n",
    "- Where to find **input data** suitable for DQM/DC machine learning studies and how to read and prepare it.\n",
    "- How to define a suitable **training and evaluation set**.\n",
    "- How to **train and evaluate** an autoencoder or other model.\n",
    "\n",
    "Prerequisites:   \n",
    "- There is one dedicated repository with useful tools that you will need to install manually, namely [this one](https://github.com/LukaLambrecht/ML4DQMDC-PixelAE). Clone it in the usual way that you clone any other github repository. Then modify the path in the cell below to wherever you downloaded the repository in order for all the imports later on in this script to work.\n",
    "- For all other dependencies, we prepared a virtual environment that contains all of them. See below for instructions on how to activate it.\n",
    "\n",
    "Activating the virtual environment:\n",
    "- Open a terminal and enter the following command: `source /nfs/dust/cms/group/cmsdas2023/TRK-DQM/venv_ml4dqm_podas2023/bin/activate` to activate the virtual environment in that terminal.\n",
    "- Next, run this command: `ipython kernel install --user --name=venv_ml4dqm_podas2023` to register the environment as an ipython kernel.\n",
    "- In the jupyter hub (where you have this notebook open), go to Kernel -> Change kernel... and select the kernel named `venv_ml4dqm_podas2023`. (Potentially you need to refresh the page first)."
   ]
  },
  {
   "cell_type": "code",
   "execution_count": 33,
   "id": "00d954df-08fb-4214-ae71-682092e5f026",
   "metadata": {},
   "outputs": [],
   "source": [
    "import os\n",
    "\n",
    "# modify the path below to point to the location where you downloaded the ML4DQMDC-PixelAE repo from github.\n",
    "# this is needed for the imports later on in this script to work.\n",
    "ml4dqm_repo_dir = os.path.abspath('../ML4DQMDC-PixelAE')"
   ]
  },
  {
   "cell_type": "markdown",
   "id": "d959c9fe",
   "metadata": {},
   "source": [
    "**Introduction: machine learning for DQM and DC**\n",
    "\n",
    "$\\color{red}{\\text{TO DO:}}$ link or point to slides with a more theoretical introduction to ML4DQM/DC. What is the general input, process and output?"
   ]
  },
  {
   "cell_type": "markdown",
   "id": "34518ee6",
   "metadata": {},
   "source": [
    "**Where to find the input data**\n",
    "\n",
    "The data used as an input to our machine learning models consists of **per-lumisection monitoring elements**. A lumisections is an elementary data-taking period of about 23 seconds. Several tens to hundreds (or sometimes thousands) of lumisections are typically chained together in an uninterrupted data-taking period of several hours, called a run. **The lumisection is the smallest unit of time currently available to do detector performance and data quality checks**. **Monitoring elements are distributions obtained from the recorded data designed to be sensitive to the data quality**. They are typically rather low-level distributions. For example, in this exercise, we will work with the distribution of the collected electric charge per cluster in the second layer of the pixel tracker. The exact physical interpretation of this monitoring element is however not important for this exercise; all we want to do is to **spot distributions that are 'anomalous', i.e. differing from the majority**. \n",
    "\n",
    "**The format of the input data is DQMIO**. This is a special type of ROOT file containing the monitoring elements (as TH1, TH2 or similar ROOT objects), either at per-run or at per-lumisection level. The datasets with DQMIO files can be found on [DAS](https://cmsweb.cern.ch/das/) using the search query `dataset=/*/*/DQMIO`. In our case, we will use the ZeroBias dataset (which is most relevant for tracker studies) of the 2022F era, so use  the query `dataset=/ZeroBias/Run2022F*/DQMIO`. There are several datasets matching this query. However, most of them are in the standard DQMIO format, containing only per-run monitoring elements. For this exercise, we need per-lumisection monitoring elements, which are stored in 'nanoDQMIO', containing only a small subset of all monitoring elements, but at the per-lumisection level. More information on this particular data tier, and a list of available datasets, can be found on [this twiki](https://twiki.cern.ch/twiki/bin/viewauth/CMS/PerLsDQMIO).\n",
    "\n",
    "For this exercise, the entire `/ZeroBias/Run2022F-19Jan2023-v2/DQMIO` dataset (about 25 GB) has been downloaded for easier access into the following location: `/nfs/dust/cms/group/cmsdas2023/TRK-DQM/ZeroBias_Run2022F_DQMIO/` with one small example file downloaded separately as `/nfs/dust/cms/group/cmsdas2023/TRK-DQM/ZeroBias_Run2022F_DQMIO_example.root`. (Just for information in case you want to repeat the exercise with another dataset: the download was done using [this script](https://github.com/LukaLambrecht/ML4DQMDC-PixelAE/blob/master/dqmio/copydastolocal/copy_das_to_local_set.py).)"
   ]
  },
  {
   "cell_type": "markdown",
   "id": "e988b1e2",
   "metadata": {},
   "source": [
    "**Reading (nano)DQMIO data**\n",
    "\n",
    "Data in (nano)DQMIO format is **not straightforwardly readable or accessible, but a dedicated reader class already exists** to access the per-lumisection monitoring elements. Its basic usage is showcased in the code snippet below. "
   ]
  },
  {
   "cell_type": "code",
   "execution_count": 34,
   "id": "15da6259",
   "metadata": {},
   "outputs": [
    {
     "name": "stdout",
     "output_type": "stream",
     "text": [
      "Welcome to JupyROOT 6.24/08\n",
      "DQMIOReader.__init__: opening 1 files...\n"
     ]
    },
    {
     "ename": "KeyboardInterrupt",
     "evalue": "",
     "output_type": "error",
     "traceback": [
      "\u001b[0;31m---------------------------------------------------------------------------\u001b[0m",
      "\u001b[0;31mKeyboardInterrupt\u001b[0m                         Traceback (most recent call last)",
      "\u001b[0;32m<ipython-input-34-c72c11c42c4b>\u001b[0m in \u001b[0;36m<module>\u001b[0;34m\u001b[0m\n\u001b[1;32m     13\u001b[0m \u001b[0mfilename\u001b[0m \u001b[0;34m=\u001b[0m \u001b[0;34m'/nfs/dust/cms/group/cmsdas2023/TRK-DQM/ZeroBias_Run2022F_DQMIO_example.root'\u001b[0m\u001b[0;34m\u001b[0m\u001b[0;34m\u001b[0m\u001b[0m\n\u001b[1;32m     14\u001b[0m \u001b[0;34m\u001b[0m\u001b[0m\n\u001b[0;32m---> 15\u001b[0;31m \u001b[0mreader\u001b[0m \u001b[0;34m=\u001b[0m \u001b[0mDQMIOReader\u001b[0m\u001b[0;34m(\u001b[0m\u001b[0;34m*\u001b[0m\u001b[0;34m[\u001b[0m\u001b[0mfilename\u001b[0m\u001b[0;34m]\u001b[0m\u001b[0;34m)\u001b[0m\u001b[0;34m\u001b[0m\u001b[0;34m\u001b[0m\u001b[0m\n\u001b[0m\u001b[1;32m     16\u001b[0m \u001b[0;34m\u001b[0m\u001b[0m\n\u001b[1;32m     17\u001b[0m \u001b[0;31m# retrieve available lumisections in the file\u001b[0m\u001b[0;34m\u001b[0m\u001b[0;34m\u001b[0m\u001b[0;34m\u001b[0m\u001b[0m\n",
      "\u001b[0;32m~/ML4DQMDC-PixelAE/dqmio/src/DQMIOReader.py\u001b[0m in \u001b[0;36m__init__\u001b[0;34m(self, *files, **kwargs)\u001b[0m\n\u001b[1;32m    145\u001b[0m         \u001b[0msys\u001b[0m\u001b[0;34m.\u001b[0m\u001b[0mstdout\u001b[0m\u001b[0;34m.\u001b[0m\u001b[0mflush\u001b[0m\u001b[0;34m(\u001b[0m\u001b[0;34m)\u001b[0m\u001b[0;34m\u001b[0m\u001b[0;34m\u001b[0m\u001b[0m\n\u001b[1;32m    146\u001b[0m         \u001b[0msys\u001b[0m\u001b[0;34m.\u001b[0m\u001b[0mstderr\u001b[0m\u001b[0;34m.\u001b[0m\u001b[0mflush\u001b[0m\u001b[0;34m(\u001b[0m\u001b[0;34m)\u001b[0m\u001b[0;34m\u001b[0m\u001b[0;34m\u001b[0m\u001b[0m\n\u001b[0;32m--> 147\u001b[0;31m         \u001b[0mself\u001b[0m\u001b[0;34m.\u001b[0m\u001b[0mrootfiles\u001b[0m \u001b[0;34m=\u001b[0m \u001b[0;34m[\u001b[0m\u001b[0mROOT\u001b[0m\u001b[0;34m.\u001b[0m\u001b[0mTFile\u001b[0m\u001b[0;34m.\u001b[0m\u001b[0mOpen\u001b[0m\u001b[0;34m(\u001b[0m\u001b[0mf\u001b[0m\u001b[0;34m)\u001b[0m \u001b[0;32mfor\u001b[0m \u001b[0mf\u001b[0m \u001b[0;32min\u001b[0m \u001b[0mfiles\u001b[0m\u001b[0;34m]\u001b[0m\u001b[0;34m\u001b[0m\u001b[0;34m\u001b[0m\u001b[0m\n\u001b[0m\u001b[1;32m    148\u001b[0m         \u001b[0mprint\u001b[0m\u001b[0;34m(\u001b[0m\u001b[0;34m'all files opened, now making index'\u001b[0m\u001b[0;34m)\u001b[0m\u001b[0;34m\u001b[0m\u001b[0;34m\u001b[0m\u001b[0m\n\u001b[1;32m    149\u001b[0m         \u001b[0msys\u001b[0m\u001b[0;34m.\u001b[0m\u001b[0mstdout\u001b[0m\u001b[0;34m.\u001b[0m\u001b[0mflush\u001b[0m\u001b[0;34m(\u001b[0m\u001b[0;34m)\u001b[0m\u001b[0;34m\u001b[0m\u001b[0;34m\u001b[0m\u001b[0m\n",
      "\u001b[0;32m~/ML4DQMDC-PixelAE/dqmio/src/DQMIOReader.py\u001b[0m in \u001b[0;36m<listcomp>\u001b[0;34m(.0)\u001b[0m\n\u001b[1;32m    145\u001b[0m         \u001b[0msys\u001b[0m\u001b[0;34m.\u001b[0m\u001b[0mstdout\u001b[0m\u001b[0;34m.\u001b[0m\u001b[0mflush\u001b[0m\u001b[0;34m(\u001b[0m\u001b[0;34m)\u001b[0m\u001b[0;34m\u001b[0m\u001b[0;34m\u001b[0m\u001b[0m\n\u001b[1;32m    146\u001b[0m         \u001b[0msys\u001b[0m\u001b[0;34m.\u001b[0m\u001b[0mstderr\u001b[0m\u001b[0;34m.\u001b[0m\u001b[0mflush\u001b[0m\u001b[0;34m(\u001b[0m\u001b[0;34m)\u001b[0m\u001b[0;34m\u001b[0m\u001b[0;34m\u001b[0m\u001b[0m\n\u001b[0;32m--> 147\u001b[0;31m         \u001b[0mself\u001b[0m\u001b[0;34m.\u001b[0m\u001b[0mrootfiles\u001b[0m \u001b[0;34m=\u001b[0m \u001b[0;34m[\u001b[0m\u001b[0mROOT\u001b[0m\u001b[0;34m.\u001b[0m\u001b[0mTFile\u001b[0m\u001b[0;34m.\u001b[0m\u001b[0mOpen\u001b[0m\u001b[0;34m(\u001b[0m\u001b[0mf\u001b[0m\u001b[0;34m)\u001b[0m \u001b[0;32mfor\u001b[0m \u001b[0mf\u001b[0m \u001b[0;32min\u001b[0m \u001b[0mfiles\u001b[0m\u001b[0;34m]\u001b[0m\u001b[0;34m\u001b[0m\u001b[0;34m\u001b[0m\u001b[0m\n\u001b[0m\u001b[1;32m    148\u001b[0m         \u001b[0mprint\u001b[0m\u001b[0;34m(\u001b[0m\u001b[0;34m'all files opened, now making index'\u001b[0m\u001b[0;34m)\u001b[0m\u001b[0;34m\u001b[0m\u001b[0;34m\u001b[0m\u001b[0m\n\u001b[1;32m    149\u001b[0m         \u001b[0msys\u001b[0m\u001b[0;34m.\u001b[0m\u001b[0mstdout\u001b[0m\u001b[0;34m.\u001b[0m\u001b[0mflush\u001b[0m\u001b[0;34m(\u001b[0m\u001b[0;34m)\u001b[0m\u001b[0;34m\u001b[0m\u001b[0;34m\u001b[0m\u001b[0m\n",
      "\u001b[0;32m/usr/lib64/python3.6/site-packages/ROOT/pythonization/_tfile.py\u001b[0m in \u001b[0;36m_TFileOpen\u001b[0;34m(klass, *args)\u001b[0m\n\u001b[1;32m     62\u001b[0m     \u001b[0;31m# klass: TFile class\u001b[0m\u001b[0;34m\u001b[0m\u001b[0;34m\u001b[0m\u001b[0;34m\u001b[0m\u001b[0m\n\u001b[1;32m     63\u001b[0m     \u001b[0;31m# *args: arguments passed to the constructor\u001b[0m\u001b[0;34m\u001b[0m\u001b[0;34m\u001b[0m\u001b[0;34m\u001b[0m\u001b[0m\n\u001b[0;32m---> 64\u001b[0;31m     \u001b[0mf\u001b[0m \u001b[0;34m=\u001b[0m \u001b[0mklass\u001b[0m\u001b[0;34m.\u001b[0m\u001b[0m_OriginalOpen\u001b[0m\u001b[0;34m(\u001b[0m\u001b[0;34m*\u001b[0m\u001b[0margs\u001b[0m\u001b[0;34m)\u001b[0m\u001b[0;34m\u001b[0m\u001b[0;34m\u001b[0m\u001b[0m\n\u001b[0m\u001b[1;32m     65\u001b[0m     \u001b[0;32mif\u001b[0m \u001b[0mf\u001b[0m \u001b[0;34m==\u001b[0m \u001b[0mbind_object\u001b[0m\u001b[0;34m(\u001b[0m\u001b[0;36m0\u001b[0m\u001b[0;34m,\u001b[0m \u001b[0mklass\u001b[0m\u001b[0;34m)\u001b[0m\u001b[0;34m:\u001b[0m\u001b[0;34m\u001b[0m\u001b[0;34m\u001b[0m\u001b[0m\n\u001b[1;32m     66\u001b[0m         \u001b[0;31m# args[0] can be either a string or a TFileOpenHandle\u001b[0m\u001b[0;34m\u001b[0m\u001b[0;34m\u001b[0m\u001b[0;34m\u001b[0m\u001b[0m\n",
      "\u001b[0;31mKeyboardInterrupt\u001b[0m: "
     ]
    }
   ],
   "source": [
    "# basic imports\n",
    "import sys\n",
    "import os\n",
    "import pandas \n",
    "\n",
    "\n",
    "# import the DQMIOReader class from the ML4DQM repository\n",
    "sys.path.append(os.path.join(ml4dqm_repo_dir,'dqmio/src/'))\n",
    "\n",
    "from DQMIOReader import DQMIOReader\n",
    "\n",
    "# initialize a DQMIO reader using an example DQMIO file\n",
    "filename = '/nfs/dust/cms/group/cmsdas2023/TRK-DQM/ZeroBias_Run2022F_DQMIO_example.root'\n",
    "\n",
    "reader = DQMIOReader(*[filename])\n",
    "\n",
    "# retrieve available lumisections in the file\n",
    "runsls = sorted(reader.listLumis())\n",
    "print('Available lumisections: ({})'.format(len(runsls)))\n",
    "for runls in runsls: print('  - Run {}, LS {}'.format(runls[0],runls[1]))\n",
    "    \n",
    "# retrieve available monitoring elements in the file\n",
    "menames = sorted(reader.listMEs())\n",
    "print('Available monitoring elements: ({})'.format(len(menames)))\n",
    "for mename in menames: print('  - {}'.format(mename))"
   ]
  },
  {
   "cell_type": "markdown",
   "id": "13199583",
   "metadata": {},
   "source": [
    "You might be wondering what all these monitoring elements (with sometimes intransparent names such as `NormalizedHitResiduals_TEC__wheel__1`) really represent. Unfortunately, there is no comprehensive and/or easily understandable overview of the monitoring elements and their meaning. The best approach is to get in touch with DQM/DC experts of a particular subsystem and ask them. In the remainder of this tutorial, we will work with `PixelPhase1/Tracks/PXBarrel/charge_PXLayer_2`. **This monitoring element is a simple (1D) histogram with the amount of electric charge collected per cluster, in the second layer of the barrel pixel tracker.**"
   ]
  },
  {
   "cell_type": "markdown",
   "id": "c16fb141",
   "metadata": {},
   "source": [
    "It is possible to extract individual monitoring elements directly from a nanoDQMIO file, e.g. for plotting as is done in [this script](https://github.com/LukaLambrecht/ML4DQMDC-PixelAE/blob/master/dqmio/utils/plot_mes.py). However, this will not be discussed here in detail, as most practical applications would not take the nanoDQMIO files directly as input, but rather extract and convert data from nanoDQMIO into another format first. This is discussed in the next section."
   ]
  },
  {
   "cell_type": "markdown",
   "id": "36df675c-3283-4277-9d73-c7a7b5be7bc7",
   "metadata": {},
   "source": [
    "**Converting (nano)DQMIO data to input for machine learning**\n",
    "\n",
    "For machine learning applications, it is more useful to convert the (nano)DQMIO files into another data format, for the following reasons:\n",
    "- One often wants to **train a model on only one or a few types of monitoring elements**, while the DQMIO files contain many more histograms that are not of interest for a particular study.\n",
    "- Models often require a **larger training and/or testing set** than the amount of lumisections in one DQMIO file.\n",
    "- It is useful to have input data that can be **loaded fast and easily into python**.\n",
    "\n",
    "In [this script](https://github.com/LukaLambrecht/ML4DQMDC-PixelAE/blob/master/dqmio/harvesting/harvest_nanodqmio_to_parquet.py), you can find an example of **converting (nano)DQMIO into parquet files**, with the implementation of the wishlist items mentioned above, i.e. selecting one type of monitoring element of interest, merging lumisections from several DQMIO files, and storing as parquet (which can be straightforwardly loaded as a pandas DataFrame). This script was used on the example DQMIO file above to create a parquet where only the `PixelPhase1/Tracks/PXBarrel/charge_PXLayer_2` monitoring element was selected. The resulting file is stored here: `/nfs/dust/cms/group/cmsdas2023/TRK-DQM/ZeroBias_Run2022F_charge_PXLayer_2_example.parquet`. There is also an equivalent csv file here: `/nfs/dust/cms/group/cmsdas2023/TRK-DQM/ZeroBias_Run2022F_charge_PXLayer_2_example.csv`"
   ]
  },
  {
   "cell_type": "markdown",
   "id": "2995e4cd-c080-455e-a765-5c1524a63e58",
   "metadata": {},
   "source": [
    "> Techical note: conversion to and reading from parquet requires the `pyarrow` or `fastparquet` package, that do not seem to be available on the DESY infrastructure, so we use the csv file instead. The file content is identical, only parquet files are more efficient in storage."
   ]
  },
  {
   "cell_type": "markdown",
   "id": "6eefd841-df1e-43b3-8ba5-739fa1a09050",
   "metadata": {},
   "source": [
    "The code snippet below shows how to read this file as a pandas DataFrame."
   ]
  },
  {
   "cell_type": "code",
   "execution_count": null,
   "id": "7c1761e3-b712-4976-a270-6869174164d5",
   "metadata": {},
   "outputs": [],
   "source": [
    "# imports\n",
    "import pandas\n",
    "\n",
    "# read a parquet file into a DataFrame\n",
    "inputfile = '/nfs/dust/cms/group/cmsdas2023/TRK-DQM/ZeroBias_Run2022F_charge_PXLayer_2_example.csv'\n",
    "#df = pandas.read_parquet(inputfile) # for parquet files\n",
    "df = pandas.read_csv(inputfile) # for csv files\n",
    "df # for displaying the result"
   ]
  },
  {
   "cell_type": "markdown",
   "id": "3f4626ee-4b46-45dd-bd37-ea5f032aaff2",
   "metadata": {},
   "source": [
    "The names of the columns in the DataFrame have the following meaning:\n",
    "- fromrun: run number\n",
    "- fromlumi: lumisection number\n",
    "- hname: name of the monitoring element\n",
    "- metype: type of the monitoring element (3 means TH1)\n",
    "- histo: the actual histogram counts stored as a numpy array\n",
    "- entries: sum of elements in histo\n",
    "- Xmin, Xmax, Xbins: minimum and maximum value of x-axis, and number of bins\n",
    "- Ymin, Ymax, Ybins: same for y-axis (not applicable for 1D monitoring elements)"
   ]
  },
  {
   "cell_type": "markdown",
   "id": "032ec8bf-518e-40d4-8cae-9cacb1b4a8fc",
   "metadata": {},
   "source": [
    "The previous code snippet ran on a single input file to show the principle. This can be straightforwardly **extended to run on all files in the downloaded dataset**, but for your convenience this has already been done for you. The resulting file is stored here: `/nfs/dust/cms/group/cmsdas2023/TRK-DQM/ZeroBias_Run2022F_charge_PXLayer_2.parquet`. It is this file that we will load and use for the remainder of this exercise. (There is also a completely equivalent csv file `ZeroBias_Run2022F_charge_PXLayer_2.csv` in the same directory as a backup, however you should not normally need it)."
   ]
  },
  {
   "cell_type": "markdown",
   "id": "8de7eb52-4e34-4713-91d2-19ff00a09100",
   "metadata": {},
   "source": [
    "> Techical note: as mentioned before, conversion to and reading from parquet does not seem to be available on the vanilla DESY infrastructure. So we will use the equivalent csv file instead."
   ]
  },
  {
   "cell_type": "markdown",
   "id": "38902131",
   "metadata": {},
   "source": [
    "**Investigating monitoring elements**\n",
    "\n",
    "In this section, we perform some basic visual checks of the monitoring elements in our dataset."
   ]
  },
  {
   "cell_type": "code",
   "execution_count": null,
   "id": "f4904a43",
   "metadata": {},
   "outputs": [],
   "source": [
    "### imports\n",
    "\n",
    "# external modules\n",
    "import sys\n",
    "import os\n",
    "import numpy as np\n",
    "import matplotlib.pyplot as plt\n",
    "\n",
    "# local modules\n",
    "sys.path.append(os.path.join(ml4dqm_repo_dir,'utils'))\n",
    "import hist_utils as hu\n",
    "import dataframe_utils as dfu\n",
    "import plot_utils as pu\n",
    "import clustering_utils as cu\n",
    "sys.path.append(os.path.join(ml4dqm_repo_dir,'src'))\n",
    "from DataLoader import DataLoader"
   ]
  },
  {
   "cell_type": "code",
   "execution_count": null,
   "id": "4210167a",
   "metadata": {},
   "outputs": [],
   "source": [
    "### define titles and axis properties (only for plot aesthetics)\n",
    "\n",
    "titledict = {\"PixelPhase1/Tracks/PXBarrel/charge_PXLayer_2\": \"\"}\n",
    "xaxtitledict = {\"PixelPhase1/Tracks/PXBarrel/charge_PXLayer_2\": \"Cluster charge (electrons)\"}\n",
    "yaxtitledict = {\"PixelPhase1/Tracks/PXBarrel/charge_PXLayer_2\": \"Number of clusters\"}\n",
    "extratextdict = {\"PixelPhase1/Tracks/PXBarrel/charge_PXLayer_2\": \"BPIX L2\"}"
   ]
  },
  {
   "cell_type": "code",
   "execution_count": null,
   "id": "5278387b",
   "metadata": {},
   "outputs": [],
   "source": [
    "### read the data\n",
    "\n",
    "# define input file\n",
    "filename = '/nfs/dust/cms/group/cmsdas2023/TRK-DQM/ZeroBias_Run2022F_charge_PXLayer_2.csv'\n",
    "histname = 'PixelPhase1/Tracks/PXBarrel/charge_PXLayer_2'\n",
    "\n",
    "# load the data\n",
    "dloader = DataLoader()\n",
    "df = dloader.get_dataframe_from_file( filename )\n",
    "print('Raw input data shape: {}'.format( dfu.get_hist_values(df)[0].shape ))\n",
    "xmin = df.at[0, 'Xmin'] # get the minimum x-axis value (by reading the first row, 'Xmin' column)\n",
    "xmax = df.at[0, 'Xmax'] # get the maximum x-axis value (by reading the first row, 'Xmax' column)\n",
    "\n",
    "# optionally: filter the data\n",
    "df = dfu.select_dcson(df) # see text below\n",
    "df = dfu.select_highstat(df) # see text below\n",
    "print('Filtered number of LS: '+str(len(df)))"
   ]
  },
  {
   "cell_type": "markdown",
   "id": "fc9cfa0c",
   "metadata": {},
   "source": [
    "In the code snippet above, one could optionally filter the data. Have a look at [dataframe_utils](https://github.com/LukaLambrecht/ML4DQMDC-PixelAE/blob/master/utils/dataframe_utils.py) for the definition and signature of these functions. In short, `select_dcson` selects only lumisections listed in the 'DCS-only' json file, which lists **lumisections where the detector is basically fully switched on**. This selection ensures removing lumisections that would anyway not make it to the selection good data. `select_highstat` selects **histograms with a sufficiently high number of entries**. This selection avoids training models on statistical noise."
   ]
  },
  {
   "cell_type": "markdown",
   "id": "25a2652d",
   "metadata": {},
   "source": [
    "To get a better idea of what we are dealing with, we will make some plots of the monitoring elements in the cell below. Several plots will be made (you can toggle them on/off at the top of the cell below):\n",
    "- 'raw': simply plot the histograms as they are stored in the input file.\n",
    "- 'processed': perform some preprocessing before plotting, namely removing the under- and overflow bin and normalizing all histograms to unit surface area.\n",
    "- 'moment': plot the first and second order moment of each histogram (i.e. its mean value and mean quadratic value)."
   ]
  },
  {
   "cell_type": "code",
   "execution_count": null,
   "id": "f9fcbc09",
   "metadata": {},
   "outputs": [],
   "source": [
    "# global settings\n",
    "plot_raw = True\n",
    "plot_processed = True\n",
    "plot_moment = True\n",
    "\n",
    "# start loop over runs\n",
    "runs = dfu.get_runs(df)\n",
    "print('Number of runs: {}'.format(len(runs)))\n",
    "runs = runs[:5] # subselect runs for speed\n",
    "print('Will loop over following runs: {}'.format(runs))\n",
    "for run in runs:\n",
    "    print('Now plotting run {}'.format(run))\n",
    "    dfr = dfu.select_runs(df,[run])\n",
    "    # get histograms\n",
    "    (hists,_,ls) = dfu.get_hist_values(dfr)\n",
    "    \n",
    "    # plot raw histograms\n",
    "    if plot_raw:\n",
    "        fig,ax = pu.plot_hists_multi( hists.tolist(), colorlist=ls,\n",
    "                                title = titledict[histname], titlesize=15,\n",
    "                                xlims=(xmin,xmax),\n",
    "                                xaxtitle = xaxtitledict[histname], xaxtitlesize=17,\n",
    "                                yaxtitle = yaxtitledict[histname], yaxtitlesize=17,\n",
    "                                caxtitle = 'Lumisection number', caxtitlesize=15, caxtitleoffset=15,\n",
    "                                ymaxfactor = 1,\n",
    "                                legendsize = 14, ticksize = 14 )\n",
    "        pu.add_cms_label( ax, pos=(0.05,1.01), extratext='Preliminary', fontsize=16 )\n",
    "        pu.add_text( ax, 'Run {}'.format(run), (0.97,0.9), fontsize=15, horizontalalignment='right' )\n",
    "        pu.add_text( ax, extratextdict[histname], (0.97,0.82), fontsize=15, horizontalalignment='right' )\n",
    "        pu.add_text( ax, '2022 (13.6 TeV)', (1,1.01), fontsize=14, horizontalalignment='right' )\n",
    "        plt.show()\n",
    "        \n",
    "    # plot processed histograms\n",
    "    hists = hu.normalizehists(hists)\n",
    "    hists = hists[:,1:-1]\n",
    "    if plot_processed:\n",
    "        fig,ax = pu.plot_hists_multi( hists.tolist(), colorlist=ls,\n",
    "                                title = titledict[histname], titlesize=15,\n",
    "                                xlims=(xmin,xmax),\n",
    "                                xaxtitle = xaxtitledict[histname], xaxtitlesize=17,\n",
    "                                yaxtitle = yaxtitledict[histname]+' (normalized)', yaxtitlesize=17,\n",
    "                                caxtitle = 'Lumisection number', caxtitlesize=15, caxtitleoffset=15,\n",
    "                                ymaxfactor = 1,\n",
    "                                legendsize = 14, ticksize = 14)\n",
    "        pu.add_cms_label( ax, pos=(0.05,1.01), extratext='Preliminary', fontsize=16 )\n",
    "        pu.add_text( ax, 'Run {}'.format(run), (0.97,0.9), fontsize=15, horizontalalignment='right' )\n",
    "        pu.add_text( ax, extratextdict[histname], (0.97,0.82), fontsize=15, horizontalalignment='right' )\n",
    "        pu.add_text( ax, '2022 (13.6 TeV)', (1,1.01), fontsize=14, horizontalalignment='right' )\n",
    "        plt.show()\n",
    "        \n",
    "    # get moments\n",
    "    if plot_moment:\n",
    "        nmoments = 2\n",
    "        moments = np.zeros((len(hists),nmoments))\n",
    "        xmin = 0. # some sort of normalization\n",
    "        xmax = 1. # some sort of normalization\n",
    "        nbins = hists.shape[1]\n",
    "        binwidth = (xmax-xmin)/nbins\n",
    "        bins = np.linspace(xmin+binwidth/2,xmax-binwidth/2,num=nbins,endpoint=True)\n",
    "        for i in range(1,nmoments+1):\n",
    "            moments[:,i-1] = hu.moment(bins,hists,i)\n",
    "        fix,ax = pu.plot_moments(moments, ls, (0,1),\n",
    "                                xaxtitlesize=17,\n",
    "                                yaxtitlesize=17,\n",
    "                                caxtitle = 'Lumisection number', caxtitlesize=15, caxtitleoffset=15,\n",
    "                                ticksize=14)\n",
    "        pu.add_cms_label( ax, pos=(0.05,1.01), extratext='Preliminary', fontsize=16 )\n",
    "        pu.add_text( ax, 'Run {}'.format(run), (0.97,0.9), fontsize=15, horizontalalignment='right' )\n",
    "        pu.add_text( ax, extratextdict[histname], (0.97,0.82), fontsize=15, horizontalalignment='right' )\n",
    "        pu.add_text( ax, '2022 (13.6 TeV)', (1,1.01), fontsize=14, horizontalalignment='right' )\n",
    "        plt.show()\n",
    "plt.close('all')"
   ]
  },
  {
   "cell_type": "markdown",
   "id": "86d8c0f1",
   "metadata": {},
   "source": [
    "**Train autoencoder**\n",
    "\n",
    "Now that we know how to obtain training data and have a basic idea of how it looks like, we are ready to start the main part of this exercise: training an autoencoder."
   ]
  },
  {
   "cell_type": "code",
   "execution_count": 35,
   "id": "1dc4db58-ac0f-4e0c-9cd8-3c8da07916bf",
   "metadata": {
    "tags": []
   },
   "outputs": [],
   "source": [
    "### imports\n",
    "\n",
    "# external modules\n",
    "import os\n",
    "import sys\n",
    "import numpy as np\n",
    "import matplotlib as mpl\n",
    "import matplotlib.pyplot as plt\n",
    "# local modules\n",
    "sys.path.append(os.path.join(ml4dqm_repo_dir,'utils'))\n",
    "import csv_utils as csvu\n",
    "import json_utils as jsonu\n",
    "import dataframe_utils as dfu\n",
    "import hist_utils as hu\n",
    "import autoencoder_utils as aeu\n",
    "import plot_utils as pu\n",
    "import generate_data_utils as gdu\n",
    "# import general source\n",
    "sys.path.append(os.path.join(ml4dqm_repo_dir,'src'))\n",
    "sys.path.append(os.path.join(ml4dqm_repo_dir,'src/classifiers'))\n",
    "sys.path.append(os.path.join(ml4dqm_repo_dir,'src/cloudfitters'))\n",
    "from Model import Model\n",
    "import HistStruct\n",
    "from HistStruct import HistStruct\n",
    "from DataLoader import DataLoader\n",
    "from ModelInterface import ModelInterface\n",
    "# import classifiers\n",
    "from AutoEncoder import AutoEncoder\n",
    "from TemplateBasedClassifier import TemplateBasedClassifier\n",
    "from NMFClassifier import NMFClassifier\n",
    "from LandauClassifier import LandauClassifier\n",
    "from MomentClassifier import MomentClassifier\n",
    "# import combination methods\n",
    "from IdentityFitter import IdentityFitter"
   ]
  },
  {
   "cell_type": "markdown",
   "id": "7dc0b517",
   "metadata": {},
   "source": [
    "In the cell below, we specify some known bad runs/lumisections. They can be found simply by eye, by running the plotting loop above for a large number of runs and looking for anomalous shapes. Note that this list of known bad lumisections is only used for evaluating the model, not for training it. **The training will be completely unsupervised, i.e. not using any manually defined labels.**"
   ]
  },
  {
   "cell_type": "code",
   "execution_count": 36,
   "id": "2534fb3c",
   "metadata": {},
   "outputs": [],
   "source": [
    "# define core test set of bad runs\n",
    "badrunsls = {\n",
    "                \"360796\":[[330,370]],\n",
    "                \"361223\":[[190,240]]\n",
    "            }"
   ]
  },
  {
   "cell_type": "markdown",
   "id": "a2a8ae7d",
   "metadata": {
    "slideshow": {
     "slide_type": "slide"
    }
   },
   "source": [
    "In the cell below, we read the data into an object of type `HistStruct`. This is a convenient data structure that can hold several types of monitoring elements and allows accessing and processing them in a consistent way."
   ]
  },
  {
   "cell_type": "code",
   "execution_count": 37,
   "id": "814f6723",
   "metadata": {},
   "outputs": [
    {
     "name": "stdout",
     "output_type": "stream",
     "text": [
      "INFO in DataLoader.get_dataframe_from_file: loading dataframe from file /nfs/dust/cms/group/cmsdas2023/TRK-DQM/ZeroBias_Run2022F_charge_PXLayer_2.csv...\n",
      "INFO in DataLoader.get_dataframe_from_file: sorting the dataframe...\n",
      "INFO in DataLoader.get_dataframe_from_file: loaded a dataframe with 44352 rows and 13 columns.\n",
      "Found 44352 histograms\n"
     ]
    }
   ],
   "source": [
    "### read the data\n",
    "histstruct = HistStruct()\n",
    "filename = '/nfs/dust/cms/group/cmsdas2023/TRK-DQM/ZeroBias_Run2022F_charge_PXLayer_2.csv'\n",
    "dloader = DataLoader()\n",
    "df = dloader.get_dataframe_from_file( filename )\n",
    "cropslices = [slice(1,-1)] # this is to remove underflow and overflow bins from each histogram\n",
    "histstruct.add_dataframe( df, cropslices=cropslices )\n",
    "print('Found {} histograms'.format(len(histstruct.runnbs)))"
   ]
  },
  {
   "cell_type": "markdown",
   "id": "f2b0a78a",
   "metadata": {},
   "source": [
    "The `HistStruct` object holds all of the histograms from the input file basically in a numpy array. We often want to extract some of the histograms satisfying certain conditions. For example, we are interested in the histograms that belong to the bad lumisections that we defined above; or we would like to filter out histograms with a too low number of entries (as they are basically just statistical noise). For this purpose, we define 'masks' in the cell below."
   ]
  },
  {
   "cell_type": "code",
   "execution_count": 38,
   "id": "1206f6b9",
   "metadata": {},
   "outputs": [],
   "source": [
    "### add masks for selecting lumisections satisfying given conditions\n",
    "histstruct.add_dcsonjson_mask( 'dcson' ) # add a mask for DCS-only lumisections\n",
    "histstruct.add_highstat_mask( 'highstat' ) # add a mask for lumisections with sufficiently high number of entries\n",
    "histstruct.add_stat_mask( 'lowstat', max_entries_to_bins_ratio=100 ) # add a mask for lumisections with low number of entries\n",
    "nbadruns = 0\n",
    "histstruct.add_json_mask( 'bad', badrunsls ) # add a mask for previously defined bad lumisections\n",
    "histstruct.add_json_mask( 'notbad', badrunsls, invert=True )\n",
    "# special case for bad runs: add a mask per run (since different bad runs have different characteristics)\n",
    "nbadruns = len(badrunsls.keys())\n",
    "for badrun in badrunsls.keys():\n",
    "    histstruct.add_json_mask( 'bad{}'.format(badrun), {badrun:badrunsls[badrun]} )"
   ]
  },
  {
   "cell_type": "markdown",
   "id": "c4c7ba1a",
   "metadata": {},
   "source": [
    "After having loaded the data and defined the masks we will need later on, we just do some printouts to make sure everything looks ok."
   ]
  },
  {
   "cell_type": "code",
   "execution_count": 39,
   "id": "81121724",
   "metadata": {},
   "outputs": [
    {
     "name": "stdout",
     "output_type": "stream",
     "text": [
      "\n",
      "Created a histstruct with the following properties:\n",
      "- Histogram types: (1)\n",
      "  - PixelPhase1/Tracks/PXBarrel/charge_PXLayer_2\n",
      "- Number of lumisections: 44352\n",
      "- Masks: (7)\n",
      "  - dcson (44352)\n",
      "  - highstat (44253)\n",
      "  - lowstat (99)\n",
      "  - bad (91)\n",
      "  - notbad (44261)\n",
      "  - bad360796 (40)\n",
      "  - bad361223 (51)\n",
      "\n",
      "Total number of lumisections in histstruct: 44352\n",
      "  of which passing DCS-on mask: 44352\n",
      "  of which also passing high statistics mask: 44253\n",
      "  of which also not in predefined bad runs: 44162\n"
     ]
    }
   ],
   "source": [
    "# do some printouts for sanity checks\n",
    "print('')\n",
    "print('Created a histstruct with the following properties:')\n",
    "print('- Histogram types: ({})'.format(len(histstruct.histnames)))\n",
    "for histname in histstruct.histnames: print('  - {}'.format(histname))\n",
    "print('- Number of lumisections: {}'.format(len(histstruct.lsnbs)))\n",
    "print('- Masks: ({})'.format(len(histstruct.masks.keys())))\n",
    "for maskname, maskval in histstruct.masks.items(): print('  - {} ({})'.format(maskname, sum(maskval)))\n",
    "print('')\n",
    "print('Total number of lumisections in histstruct: {}'.format(len(histstruct.get_lsnbs())))\n",
    "print('  of which passing DCS-on mask: {}'.format(len(histstruct.get_lsnbs(masknames=['dcson']))))\n",
    "print('  of which also passing high statistics mask: {}'.format(len(histstruct.get_lsnbs(masknames=['dcson','highstat']))))\n",
    "print('  of which also not in predefined bad runs: {}'.format(len(histstruct.get_lsnbs(masknames=['dcson','highstat','notbad']))))"
   ]
  },
  {
   "cell_type": "markdown",
   "id": "353a489b",
   "metadata": {},
   "source": [
    "In the cell below, we make some plots to visually compare the histograms that pass the masks defined above."
   ]
  },
  {
   "cell_type": "code",
   "execution_count": 40,
   "id": "c9b80c05-398b-4c86-8100-44a83b9dfa78",
   "metadata": {},
   "outputs": [],
   "source": [
    "### define titles and axis properties (only for plot aesthetics)\n",
    "\n",
    "titledict = {\"PixelPhase1/Tracks/PXBarrel/charge_PXLayer_2\": \"\"}\n",
    "xaxtitledict = {\"PixelPhase1/Tracks/PXBarrel/charge_PXLayer_2\": \"Cluster charge (electrons)\"}\n",
    "yaxtitledict = {\"PixelPhase1/Tracks/PXBarrel/charge_PXLayer_2\": \"Number of clusters\"}\n",
    "extratextdict = {\"PixelPhase1/Tracks/PXBarrel/charge_PXLayer_2\": \"BPIX L2\"}"
   ]
  },
  {
   "cell_type": "code",
   "execution_count": 41,
   "id": "8e48eed3-6d09-4c13-8ffc-49d505d0d892",
   "metadata": {},
   "outputs": [
    {
     "data": {
      "image/png": "[encoded data removed]",
      "text/plain": [
       "<Figure size 360x360 with 1 Axes>"
      ]
     },
     "metadata": {
      "needs_background": "light"
     },
     "output_type": "display_data"
    },
    {
     "data": {
      "image/png": "[encoded data removed]",
      "text/plain": [
       "<Figure size 360x360 with 1 Axes>"
      ]
     },
     "metadata": {
      "needs_background": "light"
     },
     "output_type": "display_data"
    }
   ],
   "source": [
    "### make some plots\n",
    "\n",
    "doplot = True\n",
    "\n",
    "if doplot:\n",
    "    \n",
    "    index_mask = np.random.choice( np.arange(len(histstruct.get_lsnbs())), size=20, replace=False )\n",
    "    if('random_plotting' in histstruct.masks.keys()): histstruct.remove_mask('random_plotting')\n",
    "    histstruct.add_index_mask( 'random_plotting', index_mask )\n",
    "    # bad test runs\n",
    "    for badrun in badrunsls.keys():\n",
    "        fig,axs = histstruct.plot_histograms( masknames=[['dcson','highstat','random_plotting'],['dcson','highstat','bad{}'.format(badrun)]],\n",
    "                                labellist = ['Example histograms','Run {}'.format(badrun)],\n",
    "                                colorlist = ['blue','red'],\n",
    "                                transparencylist = [0.1,1.],\n",
    "                                ncols=3,\n",
    "                                opaque_legend=True,\n",
    "                                titledict = titledict, titlesize=15,\n",
    "                                extratextdict = extratextdict, extratextsize=15,\n",
    "                                physicalxax = True,\n",
    "                                xaxtitledict = xaxtitledict, xaxtitlesize=17,\n",
    "                                yaxtitledict = yaxtitledict, yaxtitlesize=17,\n",
    "                                ymaxfactor = 1.2,\n",
    "                                legendsize = 14\n",
    "                                )\n",
    "        # stylistic modifications\n",
    "        for ax in axs.reshape(-1):\n",
    "            pu.add_cms_label( ax, pos=(0.02,1.01), extratext='Preliminary', fontsize=16 )\n",
    "            pu.add_text( ax, '2022 (13.6 TeV)', (1,1.01), fontsize=14, horizontalalignment='right' )\n",
    "        fig.subplots_adjust(wspace=0.3, hspace=0.3)\n",
    "    histstruct.remove_mask('random_plotting')"
   ]
  },
  {
   "cell_type": "markdown",
   "id": "feada78c-a1bb-4ffb-a1b6-418edccbb4cd",
   "metadata": {},
   "source": [
    "As you can see in the figures above, **the red histograms deviate somewhat from the regularly expected shape (in blue)**, in the form of a (small) second peak at a charge of about 5000 electrons. These are rather subtle differences, but as we will see, even a vanilla autoencoder does a reasonably good job in recognizing these anomalies. **Whether these anomalies are actually problematic for the data quality is a different question, that needs to be discussed with tracker experts**; the only purpose of this exercise is to find any kind of anomalous behaviour."
   ]
  },
  {
   "cell_type": "markdown",
   "id": "31d5e2c1",
   "metadata": {},
   "source": [
    "**The cell below finally defines and trains autoencoders using keras/tensorflow**. They are deliberatly kept very simple in order not to overfit to the training data (potentially containing anomalies) and instead learn only the general behaviour of the good monitoring elements. See [here](https://github.com/LukaLambrecht/ML4DQMDC-PixelAE/blob/6326a7a7efcf5a50347bbd3a830823b2a816156b/utils/autoencoder_utils.py#L408) and [here](https://github.com/LukaLambrecht/ML4DQMDC-PixelAE/blob/6326a7a7efcf5a50347bbd3a830823b2a816156b/utils/autoencoder_utils.py#L373) for the actual definition of the model and training parameters in keras."
   ]
  },
  {
   "cell_type": "code",
   "execution_count": 42,
   "id": "6ce11ca7",
   "metadata": {},
   "outputs": [
    {
     "name": "stdout",
     "output_type": "stream",
     "text": [
      "building Autoencoder model for histogram type PixelPhase1/Tracks/PXBarrel/charge_PXLayer_2\n",
      "size of training set: (44253, 100)\n",
      "Model: \"sequential_2\"\n",
      "_________________________________________________________________\n",
      "Layer (type)                 Output Shape              Param #   \n",
      "=================================================================\n",
      "dense_4 (Dense)              (None, 50)                5050      \n",
      "_________________________________________________________________\n",
      "dense_5 (Dense)              (None, 100)               5100      \n",
      "=================================================================\n",
      "Total params: 10,150\n",
      "Trainable params: 10,150\n",
      "Non-trainable params: 0\n",
      "_________________________________________________________________\n",
      "Epoch 1/20\n",
      "20/20 [==============================] - 0s 8ms/step - loss: 0.0018 - val_loss: 3.2171e-04\n",
      "Epoch 2/20\n",
      "20/20 [==============================] - 0s 7ms/step - loss: 8.5179e-05 - val_loss: 2.8634e-05\n",
      "Epoch 3/20\n",
      "20/20 [==============================] - 0s 5ms/step - loss: 1.7658e-05 - val_loss: 1.8799e-05\n",
      "Epoch 4/20\n",
      "20/20 [==============================] - 0s 5ms/step - loss: 7.0818e-06 - val_loss: 1.3103e-05\n",
      "Epoch 5/20\n",
      "20/20 [==============================] - 0s 6ms/step - loss: 6.1427e-06 - val_loss: 1.3431e-05\n",
      "Epoch 6/20\n",
      "20/20 [==============================] - 0s 8ms/step - loss: 5.7317e-06 - val_loss: 1.2086e-05\n",
      "Epoch 7/20\n",
      "20/20 [==============================] - 0s 6ms/step - loss: 5.4852e-06 - val_loss: 1.1804e-05\n",
      "Epoch 8/20\n",
      "20/20 [==============================] - 0s 6ms/step - loss: 5.2709e-06 - val_loss: 1.1555e-05\n",
      "Epoch 9/20\n",
      "20/20 [==============================] - 0s 5ms/step - loss: 5.0814e-06 - val_loss: 1.0501e-05\n",
      "Epoch 10/20\n",
      "20/20 [==============================] - 0s 7ms/step - loss: 4.9030e-06 - val_loss: 1.0277e-05\n",
      "Epoch 11/20\n",
      "20/20 [==============================] - 0s 5ms/step - loss: 4.7330e-06 - val_loss: 9.9167e-06\n",
      "Epoch 12/20\n",
      "20/20 [==============================] - 0s 6ms/step - loss: 4.5749e-06 - val_loss: 9.6088e-06\n",
      "Epoch 13/20\n",
      "20/20 [==============================] - 0s 5ms/step - loss: 4.4187e-06 - val_loss: 8.9733e-06\n",
      "Epoch 14/20\n",
      "20/20 [==============================] - 0s 7ms/step - loss: 4.2738e-06 - val_loss: 8.5855e-06\n",
      "Epoch 15/20\n",
      "20/20 [==============================] - 0s 7ms/step - loss: 4.1277e-06 - val_loss: 8.3493e-06\n",
      "Epoch 16/20\n",
      "20/20 [==============================] - 0s 8ms/step - loss: 3.9879e-06 - val_loss: 8.1716e-06\n",
      "Epoch 17/20\n",
      "20/20 [==============================] - 0s 7ms/step - loss: 3.8527e-06 - val_loss: 7.7856e-06\n",
      "Epoch 18/20\n",
      "20/20 [==============================] - 0s 6ms/step - loss: 3.7230e-06 - val_loss: 7.6695e-06\n",
      "Epoch 19/20\n",
      "20/20 [==============================] - 0s 7ms/step - loss: 3.5977e-06 - val_loss: 7.4253e-06\n",
      "Epoch 20/20\n",
      "20/20 [==============================] - 0s 6ms/step - loss: 3.4778e-06 - val_loss: 6.9579e-06\n"
     ]
    },
    {
     "data": {
      "image/png": "[encoded data removed]",
      "text/plain": [
       "<Figure size 432x288 with 1 Axes>"
      ]
     },
     "metadata": {
      "needs_background": "light"
     },
     "output_type": "display_data"
    },
    {
     "name": "stdout",
     "output_type": "stream",
     "text": [
      "Epoch 1/20\n",
      "200/200 [==============================] - 0s 2ms/step - loss: 2.9682e-06 - val_loss: 4.9497e-06\n",
      "Epoch 2/20\n",
      "200/200 [==============================] - 0s 2ms/step - loss: 2.1096e-06 - val_loss: 3.2294e-06\n",
      "Epoch 3/20\n",
      "200/200 [==============================] - 0s 2ms/step - loss: 1.5126e-06 - val_loss: 2.2074e-06\n",
      "Epoch 4/20\n",
      "200/200 [==============================] - 0s 2ms/step - loss: 1.1253e-06 - val_loss: 1.5074e-06\n",
      "Epoch 5/20\n",
      "200/200 [==============================] - 0s 2ms/step - loss: 8.6602e-07 - val_loss: 9.7891e-07\n",
      "Epoch 6/20\n",
      "200/200 [==============================] - 0s 2ms/step - loss: 6.8996e-07 - val_loss: 9.1122e-07\n",
      "Epoch 7/20\n",
      "200/200 [==============================] - 0s 2ms/step - loss: 6.4122e-07 - val_loss: 6.1364e-07\n",
      "Epoch 8/20\n",
      "200/200 [==============================] - 0s 2ms/step - loss: 5.2585e-07 - val_loss: 5.0580e-07\n",
      "Epoch 9/20\n",
      "200/200 [==============================] - 0s 2ms/step - loss: 4.7660e-07 - val_loss: 4.9003e-07\n",
      "Epoch 10/20\n",
      "200/200 [==============================] - 0s 2ms/step - loss: 4.8951e-07 - val_loss: 5.0378e-07\n",
      "Epoch 11/20\n",
      "200/200 [==============================] - 0s 2ms/step - loss: 4.3606e-07 - val_loss: 4.3611e-07\n",
      "Epoch 12/20\n",
      "200/200 [==============================] - 1s 3ms/step - loss: 3.9667e-07 - val_loss: 3.6829e-07\n",
      "Epoch 13/20\n",
      "200/200 [==============================] - 0s 2ms/step - loss: 3.6334e-07 - val_loss: 3.6569e-07\n",
      "Epoch 14/20\n",
      "200/200 [==============================] - 0s 2ms/step - loss: 3.6088e-07 - val_loss: 3.5428e-07\n",
      "Epoch 15/20\n",
      "200/200 [==============================] - 0s 2ms/step - loss: 3.7336e-07 - val_loss: 3.8275e-07\n",
      "Epoch 16/20\n",
      "200/200 [==============================] - 0s 2ms/step - loss: 8.3860e-07 - val_loss: 9.6398e-07\n",
      "Epoch 17/20\n",
      "200/200 [==============================] - 0s 2ms/step - loss: 5.7089e-07 - val_loss: 3.3518e-07\n",
      "Epoch 18/20\n",
      "200/200 [==============================] - 0s 2ms/step - loss: 3.2293e-07 - val_loss: 3.0230e-07\n",
      "Epoch 19/20\n",
      "200/200 [==============================] - 0s 2ms/step - loss: 3.2216e-07 - val_loss: 3.2182e-07\n",
      "Epoch 20/20\n",
      "200/200 [==============================] - 0s 2ms/step - loss: 3.3253e-07 - val_loss: 4.5320e-07\n"
     ]
    },
    {
     "data": {
      "image/png": "[encoded data removed]",
      "text/plain": [
       "<Figure size 432x288 with 1 Axes>"
      ]
     },
     "metadata": {
      "needs_background": "light"
     },
     "output_type": "display_data"
    },
    {
     "name": "stdout",
     "output_type": "stream",
     "text": [
      "adding model \"autoencoder\" to the HistStruct\n"
     ]
    }
   ],
   "source": [
    "### define and train an autoencoder for each element\n",
    "\n",
    "# loop over all the histogram types\n",
    "# (however, in this case we have only one type of histogram)\n",
    "classifiers = {}\n",
    "for histname in histstruct.histnames:\n",
    "    # for each histogram type (but again, there is only one in this simple case),\n",
    "    # train an autoencoder on this specific set of histograms\n",
    "    print('building Autoencoder model for histogram type {}'.format(histname))\n",
    "    # first we get the histograms on which we want to train,\n",
    "    # i.e. all histograms that are in the DCS-only json file \n",
    "    # and that have a sufficiently large number of entries \n",
    "    hists = histstruct.get_histograms(histname=histname, masknames=['dcson','highstat'])\n",
    "    print('size of training set: {}'.format(hists.shape))\n",
    "    # train the keras/tensorflow model\n",
    "    # (the function below is just a simple wrapper to define and train a vanilla autoencoder in keras/tensorflow;\n",
    "    #  feel free to replace it by your own architecture definition and training parameters)\n",
    "    (kmodel, history) = aeu.train_simple_autoencoder(hists,\n",
    "                        nepochs=20, batch_size=2000, shuffle=True,\n",
    "                        returnhistory=True)\n",
    "    # make a loss plot\n",
    "    fig,ax = pu.plot_loss(history, xaxtitlesize=15, yaxtitlesize=15, legendsize=15, doshow=False)\n",
    "    pu.add_cms_label( ax, pos=(0.02,1.01), extratext='Preliminary', fontsize=16 )\n",
    "    pu.add_text( ax, '2022 (13.6 TeV)', (1,1.01), fontsize=14, horizontalalignment='right' )\n",
    "    pu.add_text( ax, extratextdict[histname], (0.95,0.6), fontsize=15, horizontalalignment='right' )\n",
    "    plt.show()\n",
    "    # second training with smaller batch size\n",
    "    history2 = kmodel.fit(hists, hists, epochs=20, batch_size=200,\n",
    "                shuffle=True, verbose=1, validation_split=0.1)\n",
    "    # make another loss plot\n",
    "    fig,ax = pu.plot_loss(history2, xaxtitlesize=15, yaxtitlesize=15, legendsize=15, doshow=False)\n",
    "    pu.add_cms_label( ax, pos=(0.02,1.01), extratext='Preliminary', fontsize=16 )\n",
    "    pu.add_text( ax, '2022 (13.6 TeV)', (1,1.01), fontsize=14, horizontalalignment='right' )\n",
    "    pu.add_text( ax, extratextdict[histname], (0.95,0.6), fontsize=15, horizontalalignment='right' )\n",
    "    plt.show()\n",
    "    # wrap the keras/tensorflow model in a custom AutoEncoder class\n",
    "    # (just technical, for easier integration when using different classifiers instead of autoencoders)\n",
    "    classifiers[histname] = AutoEncoder( model=kmodel ) \n",
    "            \n",
    "# formally define the model and add it to the HistStruct object\n",
    "model = ModelInterface(histstruct.histnames) \n",
    "model.set_classifiers(classifiers)\n",
    "modelname = 'autoencoder'\n",
    "histstruct.add_model( modelname, model )"
   ]
  },
  {
   "cell_type": "code",
   "execution_count": 43,
   "id": "a572c465",
   "metadata": {},
   "outputs": [],
   "source": [
    "### evaluate the classifiers on all histograms in the histstruct\n",
    "\n",
    "histstruct.evaluate_classifiers( modelname )"
   ]
  },
  {
   "cell_type": "markdown",
   "id": "8d45702f",
   "metadata": {},
   "source": [
    "Now that the model is trained and its output score calculated for all histograms, we can start evaluating the model performance. **The mean-squared-error (MSE) between an original histogram and its autoencoder reconstruction is a measure for anomalousness: we expect good histograms to be well reconstructed and therefore have a low MSE, while for anomalous histograms we expect a poor reconstruction and therefore a higher MSE.**  \n",
    "\n",
    "As an additional step, the cell below inverts the MSE scores (called `IdentityFitter` in the code below). This is not strictly needed, but it is a relic of working with multiple types of monitoring elements simultaneously and with different individual classifiers, where it is easier to work with something that can be interpreted as a density, i.e. good histograms at high values and anomalous histograms at low values. Don't worry too much about this technical complication, just think of the MSE between a histogram and its autoencoder reconstruction as a measure for anomalousness"
   ]
  },
  {
   "cell_type": "code",
   "execution_count": 44,
   "id": "38fe3041",
   "metadata": {},
   "outputs": [
    {
     "name": "stdout",
     "output_type": "stream",
     "text": [
      "Training identity fitter\n"
     ]
    }
   ],
   "source": [
    "### train a fitter\n",
    "# (this is not strictly needed when using only one type of monitoring element as we do here,\n",
    "#  but just needed for a uniform syntax;\n",
    "#  what this cell does is to take the MSEs and consider them as a measure for anomalousness)\n",
    "print('Training identity fitter')\n",
    "histstruct.set_fitter( modelname, IdentityFitter() )\n",
    "histstruct.train_fitter( modelname, masknames=['dcson', 'highstat'] )\n",
    "histstruct.evaluate_fitter( modelname )"
   ]
  },
  {
   "cell_type": "markdown",
   "id": "5f3ef3a9",
   "metadata": {},
   "source": [
    "In one of the cells above, the part of the test set with bad/anomalous lumisections has already been defined, but we do not have good lumisections for testing yet. There are several ways to define a good part of the test set, all having particular benefits and disadvantages. The most straightforward one is to simply pick a number of runs/lumisections that look ok on the plots. However, here we choose the different approach of **using the training set as the good part of the test set (excluding however the runs that are in the bad test set).** This has the advantage that we are not potentially biasing ourselves towards a specific hand-picked 'good' scenario, but on the other hand some anomalies might still be present in the 'good' test set. A more involved definition is needed for reliable outcomes, but for this exercise it is fine to simply ignore the (small) fraction of remaining anomalies that might still be present in the 'good' test set."
   ]
  },
  {
   "cell_type": "code",
   "execution_count": 45,
   "id": "802af7b6",
   "metadata": {},
   "outputs": [],
   "source": [
    "### define a good test set\n",
    "\n",
    "goodmasknames=['dcson', 'highstat', 'notbad']"
   ]
  },
  {
   "cell_type": "code",
   "execution_count": 46,
   "id": "c2d7f02b",
   "metadata": {},
   "outputs": [],
   "source": [
    "### extract the output scores for good and bad sets\n",
    "    \n",
    "# get the log probability for good set\n",
    "prob_good = histstruct.get_globalscores( modelname, masknames=goodmasknames )\n",
    "logprob_good = np.log(prob_good)\n",
    "\n",
    "# get the log probability for bad set\n",
    "prob_bad = histstruct.get_globalscores( modelname, masknames=['dcson','highstat','bad'] )\n",
    "logprob_bad = np.log(prob_bad)\n",
    "\n",
    "# define labels\n",
    "labels_good = np.zeros(len(logprob_good)) # good = background = label 0\n",
    "labels_bad = np.ones(len(logprob_bad)) # anomalous = signal = label 1\n",
    "\n",
    "# concatenate scores and labels\n",
    "labels = np.concatenate((labels_good,labels_bad))\n",
    "scores = np.concatenate((-logprob_good,-logprob_bad))\n",
    "scores = aeu.clip_scores( scores )"
   ]
  },
  {
   "cell_type": "markdown",
   "id": "b52522de",
   "metadata": {},
   "source": [
    "We will make a few plots to assess the model performance in the cells below."
   ]
  },
  {
   "cell_type": "code",
   "execution_count": 47,
   "id": "9f4ac70e",
   "metadata": {},
   "outputs": [
    {
     "data": {
      "image/png": "[encoded data removed]",
      "text/plain": [
       "<Figure size 432x288 with 1 Axes>"
      ]
     },
     "metadata": {
      "needs_background": "light"
     },
     "output_type": "display_data"
    }
   ],
   "source": [
    "### plot the score distributions for good and anomalous histograms\n",
    "fig,ax = pu.plot_score_dist(scores, labels, \n",
    "                   siglabel='Anomalous', sigcolor='r', \n",
    "                   bcklabel='Good', bckcolor='g', \n",
    "                   nbins=250, normalize=True,\n",
    "                   xaxtitle='Negative logarithmic probability', xaxtitlesize=15,\n",
    "                   yaxtitle='Number of lumisections (normalized)', yaxtitlesize=15,\n",
    "                   legendsize=15,\n",
    "                   doshow=False)\n",
    "ax.set_yscale('log')\n",
    "pu.add_cms_label( ax, pos=(0.02,1.01), extratext='Preliminary', fontsize=16 )\n",
    "pu.add_text( ax, 'Model output score', (0.95,0.65), fontsize=15, horizontalalignment='right' )\n",
    "pu.add_text( ax, '2022 (13.6 TeV)', (1,1.01), fontsize=14, horizontalalignment='right' )\n",
    "plt.show()"
   ]
  },
  {
   "cell_type": "markdown",
   "id": "29f30a2e",
   "metadata": {},
   "source": [
    "In the plot above, you can see the distribution of the **model output scores for all lumisections, split between what we defined as 'good' lumisections (in green) and 'bad/anomalous' lumisections (in red).** Don't worry too much about the x-axis scaling; the point is that anomalous lumisections are on average situated at higher values (think of it as MSE, as before) than good lumisections. This means that by using a threshold value, we can separate the good from the anomalous lumisections pretty well. This is investigated in more detail by making a ROC plot in the cell below."
   ]
  },
  {
   "cell_type": "code",
   "execution_count": 48,
   "id": "bfc6afb3",
   "metadata": {},
   "outputs": [
    {
     "data": {
      "image/png": "[encoded data removed]",
      "text/plain": [
       "<Figure size 432x288 with 1 Axes>"
      ]
     },
     "metadata": {
      "needs_background": "light"
     },
     "output_type": "display_data"
    }
   ],
   "source": [
    "### plot ROC curve\n",
    "(auc,sigeff,bkgeff,_) = aeu.get_roc(scores, labels, mode='geom', doprint=False, doplot=False, returneffs=True)\n",
    "fig,ax = pu.plot_roc( sigeff, bkgeff,\n",
    "                      xaxtitle='False anomaly rate', xaxtitlesize=15,\n",
    "                      yaxtitle='True anomaly efficiency', yaxtitlesize=15, doshow=False\n",
    "                       )\n",
    "auctext = '{:.3f}'.format(auc)\n",
    "if auc>0.99: auctext = '1 - '+'{:.3e}'.format(1-auc)\n",
    "pu.add_cms_label( ax, pos=(0.02,1.01), extratext='Preliminary', fontsize=16 )\n",
    "pu.add_text( ax, '2022 (13.6 TeV)', (1,1.01), fontsize=14, horizontalalignment='right' )\n",
    "pu.add_text( ax, 'Model ROC curve', (0.95,0.25), fontsize=15, horizontalalignment='right' )\n",
    "pu.add_text( ax, 'AUC: {}'.format(auctext), (0.95,0.15), fontsize=15, horizontalalignment='right' )\n",
    "plt.show()"
   ]
  },
  {
   "cell_type": "markdown",
   "id": "00c2427b",
   "metadata": {},
   "source": [
    "In the plot above, the x-axis shows the **false anomaly rate**, i.e. which fraction of good histograms is above the threshold and hence considered to be anomalous, and the y-axis shows the **true anomaly efficiency**, i.e. which fraction of anomalous histograms is above the threshold en hence correctly recognized. The AUC-value is the area under the ROC curve, which is a metric for model performance and should be as close to 1 as possible."
   ]
  },
  {
   "cell_type": "markdown",
   "id": "7c5977ad",
   "metadata": {},
   "source": [
    "**Discussion**\n",
    "\n",
    "**The AUC score we found is good, but not good enough**. For example, we could define a working point where the method spots only about 75% of all real anomalies ('true anomaly efficiency' = 0.75), with at the same time a false alarm rate of about 1% ('false anomaly rate' = 0.01). Given the small number of real anomalies with respect to good lumisections, this working point is not really satisfactory. There are however reasons to be optimistic:\n",
    "- We used a **very simple method to obtain an already decent AUC**. Many improvements can be thought of, such as automatic filtering / outlier removal to clean the training set before training the autoencoder, optimizing the autoencoder architecture and parameters, etc.\n",
    "- The **definition of 'good' lumisections** is likely too inclusive. We simply used all lumisections in the DCS-only json file that have a sufficient number of entries. The tail of the 'good' lumisections that overlaps with the anomalous lumisections in the score distribution plot above might very well (and probably does) contain lumisections that are at least equally anomalous as those in the 'anomalous' test set. More investigation is needed to define more accurate labels, but this is outside the scope of this exercise.\n",
    "- The anomalies chosen in this exercise to test the method are rather subtle ones, even hard to spot by eye. It can be shown that this vanilla method already works **much better for more pronounced anomalies**.\n",
    "\n",
    "This is the end of the exercise, but feel free to play with this notebook and the code it imports to try to get a better and/or more reliable separation between good and anomalous lumisections!"
   ]
  },
  {
   "cell_type": "markdown",
   "id": "792c4c60",
   "metadata": {},
   "source": [
    "**Epilogue**\n",
    "\n",
    "This exercise demonstrated the very basics of machine learning for DQM and/or DC, specifically for the pixel tracker. **The work in this field is however far from over**! There's still an exciting way to go from initial studies to something that works in production. Interesting? There is plenty to be tried and investigated. Get in touch with us:\n",
    "- Gabriele Benelli (@gbenelli on Mattermost), coordinating Pixel ML4DQM.\n",
    "- Antonio Vagnerini (@avagneri on Mattermost), DQM-DC convener involved in ML4DQM."
   ]
  },
  {
   "cell_type": "code",
   "execution_count": null,
   "id": "ccb4fabb-84d3-4e4a-8716-4e082f8d8a92",
   "metadata": {},
   "outputs": [],
   "source": []
  }
 ],
 "metadata": {
  "@webio": {
   "lastCommId": null,
   "lastKernelId": null
  },
  "kernelspec": {
   "display_name": "test",
   "language": "python",
   "name": "test"
  },
  "language_info": {
   "codemirror_mode": {
    "name": "ipython",
    "version": 3
   },
   "file_extension": ".py",
   "mimetype": "text/x-python",
   "name": "python",
   "nbconvert_exporter": "python",
   "pygments_lexer": "ipython3",
   "version": "3.6.8"
  }
 },
 "nbformat": 4,
 "nbformat_minor": 5
}
